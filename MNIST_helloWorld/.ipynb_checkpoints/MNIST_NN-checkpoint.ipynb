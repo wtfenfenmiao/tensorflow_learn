{
 "cells": [
  {
   "cell_type": "code",
   "execution_count": 1,
   "metadata": {},
   "outputs": [
    {
     "name": "stderr",
     "output_type": "stream",
     "text": [
      "D:\\anaconda3\\envs\\py36\\lib\\site-packages\\h5py\\__init__.py:36: FutureWarning: Conversion of the second argument of issubdtype from `float` to `np.floating` is deprecated. In future, it will be treated as `np.float64 == np.dtype(float).type`.\n",
      "  from ._conv import register_converters as _register_converters\n"
     ]
    },
    {
     "name": "stdout",
     "output_type": "stream",
     "text": [
      "Extracting MNIST_data\\train-images-idx3-ubyte.gz\n",
      "Extracting MNIST_data\\train-labels-idx1-ubyte.gz\n",
      "Extracting MNIST_data\\t10k-images-idx3-ubyte.gz\n",
      "Extracting MNIST_data\\t10k-labels-idx1-ubyte.gz\n"
     ]
    }
   ],
   "source": [
    "#http://www.tensorfly.cn/tfdoc/tutorials/mnist_pros.html\n",
    "import tensorflow as tf\n",
    "import input_data\n",
    "\n",
    "\n",
    "#cnn中的padding是same，就是输入的宽高和输出的宽高一样，所以padding要补0.如果是valid，就是不补0了，输出宽高会比输入宽高小。\n",
    "\n",
    "#[5,5,1,32]   \n",
    "#这个框架的好处，不用管一层的宽高，只要搞清楚，卷积核用多大，多少层（channel）就行了\n",
    "#channel就是层数。多少层。\n",
    "#这个patch就是那个卷积核，卷积核大小是5*5的，然后一个卷积核只有1层（和输入一致，输入多少层，一个卷积核就多少层），这里有32个卷积核，输出就是32层（卷积核个数和输出层数一样，一个卷积核得到一层（一个卷积核无论多少层都是和输入一致的，最后要不同层加起来，所以一个卷积核层数再多最后也只得到一层），多少个得到多少层）\n",
    "mnist=input_data.read_data_sets('MNIST_data',one_hot=True)"
   ]
  },
  {
   "cell_type": "code",
   "execution_count": 5,
   "metadata": {},
   "outputs": [],
   "source": [
    "#定义初始化的函数\n",
    "def weight_variable(shape):    #初始化加入少量的噪声来打破对称性和零梯度\n",
    "    initial=tf.truncated_normal(shape,stddev=0.1) #正态分布生成随机数。truncated是截断的，按照2倍标准差截断。就是那个，钟形的函数，2倍标准差之外的那些都不要的，就要中间的那个钟形\n",
    "    return tf.Variable(initial)\n",
    "\n",
    "def bias_variable(shape):       #这里神经元用relu函数，用一个较小的正数来初始化偏置项，以避免神经节点输出恒为0的问题（dead neurons）\n",
    "    initial=tf.constant(0.1,shape=shape) \n",
    "    return tf.Variable(initial)"
   ]
  },
  {
   "cell_type": "code",
   "execution_count": 6,
   "metadata": {},
   "outputs": [],
   "source": [
    "#定义卷积相关的函数\n",
    "def conv2d(x,W):\n",
    "    return tf.nn.conv2d(x,W,strides=[1,1,1,1],padding='SAME')  \n",
    "    #x是输入，这个W是卷积核，然后步长是[1,1,1,1]，就是四个维度步长都是1。图片的话，一般都是两维，横着走一维竖着走一维，不会前后的走了。就是[1,stride,stride,1]\n",
    "    #padding=same，就是卷积之后，输入的长宽多少，输出长宽也得多少。所以就得在周围一圈补0了\n",
    "\n",
    "def max_pool_2x2(x):  #2*2做max pooling。这里stride是2，就是，一个2*2的小方格maxpooling之后，换下一个小方格。\n",
    "    return tf.nn.max_pool(x,ksize=[1,2,2,1],strides=[1,2,2,1],padding='SAME')"
   ]
  },
  {
   "cell_type": "code",
   "execution_count": 9,
   "metadata": {},
   "outputs": [],
   "source": [
    "x=tf.placeholder(\"float\",shape=[None,784])\n",
    "y_=tf.placeholder(\"float\",shape=[None,10])\n",
    "#第一层卷积\n",
    "W_conv1=weight_variable([5,5,1,32])  #卷积核，大小5*5，一个卷积核1层，一共有32个卷积核。\n",
    "b_conv1=bias_variable([32])\n",
    "x_image=tf.reshape(x,[-1,28,28,1])     #把x变成4d向量。第二第三维对应图片的宽高，最后一维代表图片的颜色通道数。\n",
    "h_conv1=tf.nn.relu(conv2d(x_image,W_conv1)+b_conv1)   #28*28*32\n",
    "h_pool1=max_pool_2x2(h_conv1)      #14*14*32\n",
    "\n",
    "#第二层卷积\n",
    "W_conv2=weight_variable([5,5,32,64])\n",
    "b_conv2=bias_variable([64])\n",
    "h_conv2=tf.nn.relu(conv2d(h_pool1,W_conv2)+b_conv2)  #14*14*64\n",
    "h_pool2=max_pool_2x2(h_conv2)   #7*7*64\n",
    "\n",
    "#全连接层（full connection）\n",
    "#把前面最后的输出抻平，抻成一条线，然后送入全连接层\n",
    "W_fc1=weight_variable([7*7*64,1024])\n",
    "b_fc1=bias_variable([1024])\n",
    "h_pool2_flat=tf.reshape(h_pool2,[-1,7*7*64])    #把h_pool2抻平，抻成一条线，送入下一级\n",
    "h_fc1=tf.nn.relu(tf.matmul(h_pool2_flat,W_fc1)+b_fc1)   \n",
    "\n",
    "#dropout，为了减少过拟合\n",
    "keep_prob=tf.placeholder(\"float\")   #这个dropout中保持不变的概率用placeholder，这样在训练过程中就可以启动dropout，测试过程中关闭dropout了。\n",
    "h_fc1_drop=tf.nn.dropout(h_fc1,keep_prob)    #dropout除了可以屏蔽神经元的输出外，还会自动处理神经元输出值的scale。所以用dropout的时候可以不用考虑scale\n",
    "\n",
    "#输出层\n",
    "W_fc2=weight_variable([1024,10])\n",
    "b_fc2=bias_variable([10])\n",
    "y_conv=tf.nn.softmax(tf.matmul(h_fc1_drop,W_fc2)+b_fc2)"
   ]
  },
  {
   "cell_type": "code",
   "execution_count": null,
   "metadata": {},
   "outputs": [],
   "source": [
    "#训练和评估模型\n",
    "cross_entropy=-tf.reduce_sum(y_*tf.log(y_conv))\n",
    "train_step=tf.train.AdamOptimizer(1e-4).minimize(cross_entropy)\n",
    "correct_prediction=tf.equal(tf.argmax(y_conv,1),tf.argmax(y_,1))   #tf.argmax，返回的是索引号。后面是0的时候，竖着比；后面是1的时候，横着比。\n",
    "\"\"\"\n",
    "后面是0的时候：\n",
    "test[0] = array([1, 2, 3])\n",
    "test[1] = array([2, 3, 4])\n",
    "test[2] = array([5, 4, 3])\n",
    "test[3] = array([8, 7, 2])\n",
    "# output   :    [3, 3, 1] \n",
    "\n",
    "后面是1的时候：\n",
    "test[0] = array([1, 2, 3])  #2\n",
    "test[1] = array([2, 3, 4])  #2\n",
    "test[2] = array([5, 4, 3])  #0\n",
    "test[3] = array([8, 7, 2])  #0\n",
    "\n",
    "\"\"\""
   ]
  }
 ],
 "metadata": {
  "kernelspec": {
   "display_name": "Python 3",
   "language": "python",
   "name": "python3"
  },
  "language_info": {
   "codemirror_mode": {
    "name": "ipython",
    "version": 3
   },
   "file_extension": ".py",
   "mimetype": "text/x-python",
   "name": "python",
   "nbconvert_exporter": "python",
   "pygments_lexer": "ipython3",
   "version": "3.6.5"
  }
 },
 "nbformat": 4,
 "nbformat_minor": 1
}
