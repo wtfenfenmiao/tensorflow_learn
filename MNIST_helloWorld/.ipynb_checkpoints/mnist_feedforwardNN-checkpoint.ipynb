{
 "cells": [
  {
   "cell_type": "code",
   "execution_count": null,
   "metadata": {
    "collapsed": true
   },
   "outputs": [],
   "source": [
    "#https://github.com/tensorflow/tensorflow/tree/master/tensorflow/examples/tutorials/mnist\n",
    "这是一个，神经网络tensorflow的。建议把这个写了。人家写的代码，真的很优雅\n",
    "这里面有不会的函数一定要查一下。然后加注释"
   ]
  }
 ],
 "metadata": {
  "kernelspec": {
   "display_name": "Python 3",
   "language": "python",
   "name": "python3"
  },
  "language_info": {
   "codemirror_mode": {
    "name": "ipython",
    "version": 3
   },
   "file_extension": ".py",
   "mimetype": "text/x-python",
   "name": "python",
   "nbconvert_exporter": "python",
   "pygments_lexer": "ipython3",
   "version": "3.6.5"
  }
 },
 "nbformat": 4,
 "nbformat_minor": 1
}
