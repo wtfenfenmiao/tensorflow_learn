{
 "cells": [
  {
   "cell_type": "code",
   "execution_count": null,
   "metadata": {
    "collapsed": true
   },
   "outputs": [],
   "source": [
    "#http://www.tensorfly.cn/tfdoc/tutorials/mnist_pros.html\n",
    "import tensorflow as tf\n",
    "import\n",
    "\n",
    "\n",
    "cnn中的padding是same，就是输入的宽高和输出的宽高一样，所以padding要补0.如果是valid，就是不补0了，输出宽高会比输入宽高小。\n",
    "\n",
    "[5,5,1,32]   \n",
    "这个框架的好处，不用管一层的宽高，只要搞清楚，卷积核用多大，多少层（channel）就行了\n",
    "channel就是层数。多少层。\n",
    "这个patch就是那个卷积核，卷积核大小是5*5的，然后一个卷积核只有1层（和输入一致，输入多少层，一个卷积核就多少层），这里有32个卷积核，输出就是32层（卷积核个数和输出层数一样，一个卷积核得到一层（一个卷积核无论多少层都是和输入一致的，最后要不同层加起来，所以一个卷积核层数再多最后也只得到一层），多少个得到多少层）"
   ]
  }
 ],
 "metadata": {
  "kernelspec": {
   "display_name": "Python 3",
   "language": "python",
   "name": "python3"
  },
  "language_info": {
   "codemirror_mode": {
    "name": "ipython",
    "version": 3
   },
   "file_extension": ".py",
   "mimetype": "text/x-python",
   "name": "python",
   "nbconvert_exporter": "python",
   "pygments_lexer": "ipython3",
   "version": "3.6.3"
  }
 },
 "nbformat": 4,
 "nbformat_minor": 1
}
