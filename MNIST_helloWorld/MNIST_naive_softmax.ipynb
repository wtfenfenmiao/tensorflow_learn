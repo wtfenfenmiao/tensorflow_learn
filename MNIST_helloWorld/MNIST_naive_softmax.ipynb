{
 "cells": [
  {
   "cell_type": "code",
   "execution_count": 1,
   "metadata": {},
   "outputs": [
    {
     "name": "stdout",
     "output_type": "stream",
     "text": [
      "hello world\n"
     ]
    }
   ],
   "source": [
    "print (\"hello world\")"
   ]
  },
  {
   "cell_type": "code",
   "execution_count": 2,
   "metadata": {},
   "outputs": [
    {
     "name": "stderr",
     "output_type": "stream",
     "text": [
      "F:\\Anaconda3\\lib\\site-packages\\h5py\\__init__.py:34: FutureWarning: Conversion of the second argument of issubdtype from `float` to `np.floating` is deprecated. In future, it will be treated as `np.float64 == np.dtype(float).type`.\n",
      "  from ._conv import register_converters as _register_converters\n"
     ]
    },
    {
     "name": "stdout",
     "output_type": "stream",
     "text": [
      "Successfully downloaded train-images-idx3-ubyte.gz 9912422 bytes.\n",
      "Extracting MNIST_data/train-images-idx3-ubyte.gz\n",
      "Successfully downloaded train-labels-idx1-ubyte.gz 28881 bytes.\n",
      "Extracting MNIST_data/train-labels-idx1-ubyte.gz\n",
      "Successfully downloaded t10k-images-idx3-ubyte.gz 1648877 bytes.\n",
      "Extracting MNIST_data/t10k-images-idx3-ubyte.gz\n",
      "Successfully downloaded t10k-labels-idx1-ubyte.gz 4542 bytes.\n",
      "Extracting MNIST_data/t10k-labels-idx1-ubyte.gz\n"
     ]
    }
   ],
   "source": [
    "#感觉这些东西的套路，都是前向传播吨吨吨填，矩阵能算明白就行\n",
    "import tensorflow as tf\n",
    "import input_data\n",
    "mnist=input_data.read_data_sets(\"MNIST_data/\",one_hot=True)"
   ]
  },
  {
   "cell_type": "code",
   "execution_count": 22,
   "metadata": {},
   "outputs": [
    {
     "name": "stdout",
     "output_type": "stream",
     "text": [
      "<input_data.read_data_sets.<locals>.DataSets object at 0x000001A26BCB73C8>\n"
     ]
    }
   ],
   "source": [
    "print (mnist)"
   ]
  },
  {
   "cell_type": "code",
   "execution_count": 23,
   "metadata": {},
   "outputs": [
    {
     "name": "stdout",
     "output_type": "stream",
     "text": [
      "<input_data.DataSet object at 0x000001A277DAFDA0>\n"
     ]
    }
   ],
   "source": [
    "print (mnist.train)"
   ]
  },
  {
   "cell_type": "code",
   "execution_count": 24,
   "metadata": {},
   "outputs": [
    {
     "name": "stdout",
     "output_type": "stream",
     "text": [
      "[[0. 0. 0. ... 0. 0. 0.]\n",
      " [0. 0. 0. ... 0. 0. 0.]\n",
      " [0. 0. 0. ... 0. 0. 0.]\n",
      " ...\n",
      " [0. 0. 0. ... 0. 0. 0.]\n",
      " [0. 0. 0. ... 0. 0. 0.]\n",
      " [0. 0. 0. ... 0. 0. 0.]]\n"
     ]
    }
   ],
   "source": [
    "print (mnist.train.images)"
   ]
  },
  {
   "cell_type": "code",
   "execution_count": 25,
   "metadata": {},
   "outputs": [
    {
     "name": "stdout",
     "output_type": "stream",
     "text": [
      "[0.         0.         0.         0.         0.         0.\n",
      " 0.         0.         0.         0.         0.         0.\n",
      " 0.         0.         0.         0.         0.         0.\n",
      " 0.         0.         0.         0.         0.         0.\n",
      " 0.         0.         0.         0.         0.         0.\n",
      " 0.         0.         0.         0.         0.         0.\n",
      " 0.         0.         0.         0.         0.         0.\n",
      " 0.         0.         0.         0.         0.         0.\n",
      " 0.         0.         0.         0.         0.         0.\n",
      " 0.         0.         0.         0.         0.         0.\n",
      " 0.         0.         0.         0.         0.         0.\n",
      " 0.         0.         0.         0.         0.         0.\n",
      " 0.         0.         0.         0.         0.         0.\n",
      " 0.         0.         0.         0.         0.         0.\n",
      " 0.         0.         0.         0.         0.         0.\n",
      " 0.         0.         0.         0.         0.         0.\n",
      " 0.         0.         0.         0.         0.         0.\n",
      " 0.         0.         0.         0.         0.         0.\n",
      " 0.         0.         0.         0.         0.         0.\n",
      " 0.         0.         0.         0.         0.         0.\n",
      " 0.         0.         0.         0.00784314 0.20784315 0.56078434\n",
      " 0.56078434 0.9960785  0.9921569  0.63529414 0.13725491 0.\n",
      " 0.         0.         0.         0.         0.         0.\n",
      " 0.         0.         0.         0.         0.         0.\n",
      " 0.         0.         0.         0.         0.         0.\n",
      " 0.         0.46274513 0.98823535 0.98823535 0.98823535 0.9921569\n",
      " 0.98823535 0.98823535 0.90196085 0.         0.         0.\n",
      " 0.         0.         0.         0.         0.         0.\n",
      " 0.         0.         0.         0.         0.         0.\n",
      " 0.         0.         0.         0.         0.6431373  0.97647065\n",
      " 0.98823535 0.98823535 0.98823535 0.9921569  0.7725491  0.3254902\n",
      " 0.8862746  0.         0.         0.         0.         0.\n",
      " 0.         0.         0.         0.         0.         0.\n",
      " 0.         0.         0.         0.         0.         0.\n",
      " 0.         0.1137255  0.89019614 0.98823535 0.9725491  0.7686275\n",
      " 0.47450984 0.23137257 0.03137255 0.01568628 0.227451   0.15294118\n",
      " 0.8588236  0.9333334  0.24313727 0.         0.         0.\n",
      " 0.         0.         0.         0.         0.         0.\n",
      " 0.         0.         0.         0.         0.         0.21960786\n",
      " 0.98823535 0.98823535 0.81568635 0.         0.         0.\n",
      " 0.         0.         0.         0.64705884 0.98823535 0.98823535\n",
      " 0.81568635 0.         0.         0.         0.         0.\n",
      " 0.         0.         0.         0.         0.         0.\n",
      " 0.         0.         0.         0.21960786 0.98823535 0.98823535\n",
      " 0.81568635 0.         0.         0.         0.         0.\n",
      " 0.03137255 0.7686275  0.98823535 0.9725491  0.34509805 0.\n",
      " 0.         0.         0.         0.         0.         0.\n",
      " 0.         0.         0.         0.         0.         0.\n",
      " 0.         0.20784315 0.9803922  0.98823535 0.97647065 0.4431373\n",
      " 0.         0.         0.         0.         0.87843144 0.98823535\n",
      " 0.98823535 0.92549026 0.         0.         0.         0.\n",
      " 0.         0.         0.         0.         0.         0.\n",
      " 0.         0.         0.         0.         0.         0.\n",
      " 0.77647066 0.98823535 0.98823535 0.8705883  0.15294118 0.\n",
      " 0.04705883 0.5294118  0.9725491  0.98823535 0.9294118  0.2392157\n",
      " 0.         0.         0.         0.         0.         0.\n",
      " 0.         0.         0.         0.         0.         0.\n",
      " 0.         0.         0.         0.         0.3529412  0.96470594\n",
      " 0.98823535 0.98823535 0.87843144 0.49411768 0.48627454 0.98823535\n",
      " 0.98823535 0.98823535 0.50980395 0.         0.         0.\n",
      " 0.         0.         0.         0.         0.         0.\n",
      " 0.         0.         0.         0.         0.         0.\n",
      " 0.         0.         0.         0.34509805 0.98823535 0.98823535\n",
      " 0.98823535 0.9921569  0.98823535 0.98823535 0.98823535 0.7058824\n",
      " 0.12156864 0.         0.         0.         0.         0.\n",
      " 0.         0.         0.         0.         0.         0.\n",
      " 0.         0.         0.         0.         0.         0.\n",
      " 0.         0.         0.3647059  0.9921569  0.9921569  1.\n",
      " 0.9921569  0.9921569  0.9450981  0.15294118 0.         0.\n",
      " 0.         0.         0.         0.         0.         0.\n",
      " 0.         0.         0.         0.         0.         0.\n",
      " 0.         0.         0.         0.         0.         0.25882354\n",
      " 0.7411765  0.98823535 0.98823535 0.9921569  0.98823535 0.98823535\n",
      " 0.96470594 0.3529412  0.         0.         0.         0.\n",
      " 0.         0.         0.         0.         0.         0.\n",
      " 0.         0.         0.         0.         0.         0.\n",
      " 0.         0.08627451 0.7294118  0.97647065 0.98823535 0.98823535\n",
      " 0.98823535 0.9921569  0.98823535 0.98823535 0.98823535 0.95294124\n",
      " 0.1764706  0.         0.         0.         0.         0.\n",
      " 0.         0.         0.         0.         0.         0.\n",
      " 0.         0.         0.         0.         0.04705883 0.61960787\n",
      " 0.98823535 0.98823535 0.98823535 0.92549026 0.5254902  0.23137257\n",
      " 0.454902   0.97647065 0.98823535 0.98823535 0.627451   0.\n",
      " 0.         0.         0.         0.         0.         0.\n",
      " 0.         0.         0.         0.         0.         0.\n",
      " 0.         0.25882354 0.6784314  0.98823535 0.98823535 0.98823535\n",
      " 0.7803922  0.09019608 0.         0.         0.05882353 0.8588236\n",
      " 0.98823535 0.98823535 0.6431373  0.         0.         0.\n",
      " 0.         0.         0.         0.         0.         0.\n",
      " 0.         0.         0.         0.         0.         0.5372549\n",
      " 0.98823535 0.98823535 0.98823535 0.6509804  0.08627451 0.\n",
      " 0.         0.04705883 0.5137255  0.98823535 0.98823535 0.98823535\n",
      " 0.6431373  0.         0.         0.         0.         0.\n",
      " 0.         0.         0.         0.         0.         0.\n",
      " 0.         0.         0.1254902  0.90196085 0.98823535 0.98823535\n",
      " 0.3137255  0.0509804  0.04705883 0.3647059  0.4784314  0.9215687\n",
      " 0.98823535 0.98823535 0.98823535 0.86666673 0.14901961 0.\n",
      " 0.         0.         0.         0.         0.         0.\n",
      " 0.         0.         0.         0.         0.         0.\n",
      " 0.10196079 0.8862746  0.98823535 0.98823535 0.98823535 0.98823535\n",
      " 0.98823535 0.98823535 0.98823535 0.9921569  0.98823535 0.98823535\n",
      " 0.7843138  0.13333334 0.         0.         0.         0.\n",
      " 0.         0.         0.         0.         0.         0.\n",
      " 0.         0.         0.         0.         0.         0.5019608\n",
      " 0.98823535 0.98823535 0.98823535 0.98823535 0.98823535 0.98823535\n",
      " 0.98823535 0.9921569  0.77647066 0.5176471  0.01176471 0.\n",
      " 0.         0.         0.         0.         0.         0.\n",
      " 0.         0.         0.         0.         0.         0.\n",
      " 0.         0.         0.         0.0509804  0.16470589 0.5568628\n",
      " 0.5568628  0.95294124 0.91372555 0.5568628  0.5568628  0.12941177\n",
      " 0.03921569 0.         0.         0.         0.         0.\n",
      " 0.         0.         0.         0.         0.         0.\n",
      " 0.         0.         0.         0.         0.         0.\n",
      " 0.         0.         0.         0.         0.         0.\n",
      " 0.         0.         0.         0.         0.         0.\n",
      " 0.         0.         0.         0.         0.         0.\n",
      " 0.         0.         0.         0.         0.         0.\n",
      " 0.         0.         0.         0.         0.         0.\n",
      " 0.         0.         0.         0.         0.         0.\n",
      " 0.         0.         0.         0.         0.         0.\n",
      " 0.         0.         0.         0.         0.         0.\n",
      " 0.         0.         0.         0.         0.         0.\n",
      " 0.         0.         0.         0.         0.         0.\n",
      " 0.         0.         0.         0.         0.         0.\n",
      " 0.         0.         0.         0.         0.         0.\n",
      " 0.         0.         0.         0.         0.         0.\n",
      " 0.         0.         0.         0.         0.         0.\n",
      " 0.         0.         0.         0.         0.         0.\n",
      " 0.         0.         0.         0.         0.         0.\n",
      " 0.         0.         0.         0.         0.         0.\n",
      " 0.         0.         0.         0.        ]\n",
      "784\n"
     ]
    }
   ],
   "source": [
    "print (mnist.train.images[0])\n",
    "print (mnist.train.images[0].size)"
   ]
  },
  {
   "cell_type": "code",
   "execution_count": 26,
   "metadata": {},
   "outputs": [
    {
     "name": "stdout",
     "output_type": "stream",
     "text": [
      "[[0. 0. 0. ... 0. 1. 0.]\n",
      " [0. 0. 0. ... 0. 0. 0.]\n",
      " [0. 1. 0. ... 0. 0. 0.]\n",
      " ...\n",
      " [0. 0. 0. ... 0. 0. 0.]\n",
      " [0. 1. 0. ... 0. 0. 0.]\n",
      " [0. 0. 0. ... 1. 0. 0.]]\n"
     ]
    }
   ],
   "source": [
    "print (mnist.train.labels)"
   ]
  },
  {
   "cell_type": "code",
   "execution_count": 27,
   "metadata": {},
   "outputs": [
    {
     "name": "stdout",
     "output_type": "stream",
     "text": [
      "[0. 0. 0. 0. 0. 0. 0. 0. 1. 0.]\n",
      "10\n"
     ]
    }
   ],
   "source": [
    "print (mnist.train.labels[0])\n",
    "print (mnist.train.labels[0].size)"
   ]
  },
  {
   "cell_type": "code",
   "execution_count": 42,
   "metadata": {},
   "outputs": [],
   "source": [
    "x=tf.placeholder(\"float\",[None,784])   #这个东西是占位用的，先说这个东西长什么样，然后过一阵再填\n",
    "W=tf.Variable(tf.zeros([784,10]))\n",
    "b=tf.Variable(tf.zeros([10]))\n",
    "y=tf.nn.softmax(tf.matmul(x,W)+b)\n",
    "y_=tf.placeholder(\"float\",[None,10])    #这个东西也是占位用的\n",
    "cross_entropy=-tf.reduce_sum(y_*tf.log(y))   #最开始交叉熵公式里，y_和y都是放在log里面的，但是0和1这种，log里不行啊。然后这个是简化一点点的交叉熵。\n",
    "train_step=tf.train.GradientDescentOptimizer(0.01).minimize(cross_entropy)   #以0.01的学习速率最小化交叉熵\n",
    "init=tf.initialize_all_variables()\n",
    "sess=tf.Session()\n",
    "sess.run(init)\n",
    "for i in range(1000):\n",
    "    batch_xs,batch_ys=mnist.train.next_batch(100)\n",
    "    sess.run(train_step,feed_dict={x:batch_xs,y_:batch_ys})"
   ]
  },
  {
   "cell_type": "code",
   "execution_count": 43,
   "metadata": {},
   "outputs": [
    {
     "name": "stdout",
     "output_type": "stream",
     "text": [
      "0.9132\n"
     ]
    }
   ],
   "source": [
    "correct_prediction=tf.equal(tf.argmax(y,1),tf.argmax(y_,1))\n",
    "accuracy=tf.reduce_mean(tf.cast(correct_prediction,\"float\"))\n",
    "print (sess.run(accuracy,feed_dict={x:mnist.test.images,y_:mnist.test.labels}))\n",
    "sess.close()"
   ]
  }
 ],
 "metadata": {
  "kernelspec": {
   "display_name": "Python 3",
   "language": "python",
   "name": "python3"
  },
  "language_info": {
   "codemirror_mode": {
    "name": "ipython",
    "version": 3.0
   },
   "file_extension": ".py",
   "mimetype": "text/x-python",
   "name": "python",
   "nbconvert_exporter": "python",
   "pygments_lexer": "ipython3",
   "version": "3.6.3"
  }
 },
 "nbformat": 4,
 "nbformat_minor": 0
}